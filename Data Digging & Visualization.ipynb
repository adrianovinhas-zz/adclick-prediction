{
 "cells": [
  {
   "cell_type": "markdown",
   "metadata": {},
   "source": [
    "# Avazu Click-Through-Rate Dataset\n",
    "\n",
    "For more information about this Kaggle problem, click [here](http://www.kaggle.com/c/avazu-ctr-prediction/) to see more details."
   ]
  },
  {
   "cell_type": "markdown",
   "metadata": {},
   "source": [
    "### Feature Set\n",
    "\n",
    "* **id**: ad identifier\n",
    "* **click**: 0/1 for non-click/click\n",
    "* **hour**: format is YYMMDDHH, so 14091123 means 23:00 on Sept. 11, 2014 UTC.\n",
    "* **C1**: anonymized categorical variable\n",
    "* **banner_pos**\n",
    "* **site_id**\n",
    "* **site_domain**\n",
    "* **site_category**\n",
    "* **app_id**\n",
    "* **app_domain**\n",
    "* **app_category**\n",
    "* **device_id**\n",
    "* **device_ip**\n",
    "* **device_model**\n",
    "* **device_type**\n",
    "* **device_conn_type**\n",
    "* **C14-C21**: anonymized categorical variables\n",
    "\n",
    "\n",
    "The variables are all categorical, we need to take this into account to our analysis.\n",
    "\n",
    "Principal conclusion from the analysis: There are certain features which have lots of levels. There might be an issue here in terms of the Curse of the Dimensionality, because using OneHotEncoder to transform these features to binary features will increase significantly the number of features."
   ]
  },
  {
   "cell_type": "code",
   "execution_count": 147,
   "metadata": {
    "collapsed": false
   },
   "outputs": [
    {
     "name": "stderr",
     "output_type": "stream",
     "text": [
      "/Library/Frameworks/Python.framework/Versions/3.4/lib/python3.4/site-packages/pandas/io/parsers.py:1170: DtypeWarning: Columns (0) have mixed types. Specify dtype option on import or set low_memory=False.\n",
      "  data = self._reader.read(nrows)\n"
     ]
    },
    {
     "data": {
      "text/html": [
       "<div>\n",
       "<table border=\"1\" class=\"dataframe\">\n",
       "  <thead>\n",
       "    <tr style=\"text-align: right;\">\n",
       "      <th></th>\n",
       "      <th>id</th>\n",
       "      <th>click</th>\n",
       "      <th>hour</th>\n",
       "      <th>C1</th>\n",
       "      <th>banner_pos</th>\n",
       "      <th>site_id</th>\n",
       "      <th>site_domain</th>\n",
       "      <th>site_category</th>\n",
       "      <th>app_id</th>\n",
       "      <th>app_domain</th>\n",
       "      <th>app_category</th>\n",
       "    </tr>\n",
       "  </thead>\n",
       "  <tbody>\n",
       "    <tr>\n",
       "      <th>count</th>\n",
       "      <td>1000000</td>\n",
       "      <td>1000000</td>\n",
       "      <td>1000000</td>\n",
       "      <td>1000000</td>\n",
       "      <td>1000000</td>\n",
       "      <td>1000000</td>\n",
       "      <td>1000000</td>\n",
       "      <td>1000000</td>\n",
       "      <td>1000000</td>\n",
       "      <td>1000000</td>\n",
       "      <td>1000000</td>\n",
       "    </tr>\n",
       "    <tr>\n",
       "      <th>unique</th>\n",
       "      <td>1000000</td>\n",
       "      <td>2</td>\n",
       "      <td>6</td>\n",
       "      <td>7</td>\n",
       "      <td>7</td>\n",
       "      <td>2075</td>\n",
       "      <td>2030</td>\n",
       "      <td>21</td>\n",
       "      <td>2309</td>\n",
       "      <td>156</td>\n",
       "      <td>23</td>\n",
       "    </tr>\n",
       "    <tr>\n",
       "      <th>top</th>\n",
       "      <td>9999995711060789250</td>\n",
       "      <td>0</td>\n",
       "      <td>14102104</td>\n",
       "      <td>1005</td>\n",
       "      <td>0</td>\n",
       "      <td>85f751fd</td>\n",
       "      <td>c4e18dd6</td>\n",
       "      <td>50e219e0</td>\n",
       "      <td>ecad2386</td>\n",
       "      <td>7801e8d9</td>\n",
       "      <td>07d7df22</td>\n",
       "    </tr>\n",
       "    <tr>\n",
       "      <th>freq</th>\n",
       "      <td>1</td>\n",
       "      <td>839781</td>\n",
       "      <td>264711</td>\n",
       "      <td>935852</td>\n",
       "      <td>777714</td>\n",
       "      <td>332893</td>\n",
       "      <td>348412</td>\n",
       "      <td>360056</td>\n",
       "      <td>667107</td>\n",
       "      <td>707429</td>\n",
       "      <td>679869</td>\n",
       "    </tr>\n",
       "  </tbody>\n",
       "</table>\n",
       "</div>"
      ],
      "text/plain": [
       "                         id    click      hour       C1  banner_pos   site_id  \\\n",
       "count               1000000  1000000   1000000  1000000     1000000   1000000   \n",
       "unique              1000000        2         6        7           7      2075   \n",
       "top     9999995711060789250        0  14102104     1005           0  85f751fd   \n",
       "freq                      1   839781    264711   935852      777714    332893   \n",
       "\n",
       "       site_domain site_category    app_id app_domain app_category  \n",
       "count      1000000       1000000   1000000    1000000      1000000  \n",
       "unique        2030            21      2309        156           23  \n",
       "top       c4e18dd6      50e219e0  ecad2386   7801e8d9     07d7df22  \n",
       "freq        348412        360056    667107     707429       679869  "
      ]
     },
     "execution_count": 147,
     "metadata": {},
     "output_type": "execute_result"
    }
   ],
   "source": [
    "import pandas as pd\n",
    "import numpy as np\n",
    "\n",
    "train = pd.read_csv(\"train.csv\",nrows=1000000)\n",
    "feature_set = train.columns.values.tolist()\n",
    "\n",
    "for f in feature_set:\n",
    "    train[f] = train[f].astype('category') # Convert each feature to categorical. Converting all in once would throw an error\n",
    "\n",
    "train.describe()[feature_set[:11]]"
   ]
  },
  {
   "cell_type": "code",
   "execution_count": 2,
   "metadata": {
    "collapsed": false
   },
   "outputs": [
    {
     "data": {
      "text/html": [
       "<div>\n",
       "<table border=\"1\" class=\"dataframe\">\n",
       "  <thead>\n",
       "    <tr style=\"text-align: right;\">\n",
       "      <th></th>\n",
       "      <th>device_id</th>\n",
       "      <th>device_ip</th>\n",
       "      <th>device_model</th>\n",
       "      <th>device_type</th>\n",
       "      <th>device_conn_type</th>\n",
       "      <th>C14</th>\n",
       "      <th>C15</th>\n",
       "      <th>C16</th>\n",
       "      <th>C17</th>\n",
       "      <th>C18</th>\n",
       "      <th>C19</th>\n",
       "      <th>C20</th>\n",
       "      <th>C21</th>\n",
       "    </tr>\n",
       "  </thead>\n",
       "  <tbody>\n",
       "    <tr>\n",
       "      <th>count</th>\n",
       "      <td>1000000</td>\n",
       "      <td>1000000</td>\n",
       "      <td>1000000</td>\n",
       "      <td>1000000</td>\n",
       "      <td>1000000</td>\n",
       "      <td>1000000</td>\n",
       "      <td>1000000</td>\n",
       "      <td>1000000</td>\n",
       "      <td>1000000</td>\n",
       "      <td>1000000</td>\n",
       "      <td>1000000</td>\n",
       "      <td>1000000</td>\n",
       "      <td>1000000</td>\n",
       "    </tr>\n",
       "    <tr>\n",
       "      <th>unique</th>\n",
       "      <td>83431</td>\n",
       "      <td>313002</td>\n",
       "      <td>4581</td>\n",
       "      <td>4</td>\n",
       "      <td>4</td>\n",
       "      <td>606</td>\n",
       "      <td>8</td>\n",
       "      <td>9</td>\n",
       "      <td>162</td>\n",
       "      <td>4</td>\n",
       "      <td>41</td>\n",
       "      <td>161</td>\n",
       "      <td>35</td>\n",
       "    </tr>\n",
       "    <tr>\n",
       "      <th>top</th>\n",
       "      <td>a99f214a</td>\n",
       "      <td>6b9769f2</td>\n",
       "      <td>8a4875bd</td>\n",
       "      <td>1</td>\n",
       "      <td>0</td>\n",
       "      <td>21611</td>\n",
       "      <td>320</td>\n",
       "      <td>50</td>\n",
       "      <td>1722</td>\n",
       "      <td>0</td>\n",
       "      <td>35</td>\n",
       "      <td>-1</td>\n",
       "      <td>79</td>\n",
       "    </tr>\n",
       "    <tr>\n",
       "      <th>freq</th>\n",
       "      <td>840265</td>\n",
       "      <td>5886</td>\n",
       "      <td>59771</td>\n",
       "      <td>950293</td>\n",
       "      <td>895464</td>\n",
       "      <td>83055</td>\n",
       "      <td>953430</td>\n",
       "      <td>957006</td>\n",
       "      <td>256389</td>\n",
       "      <td>425079</td>\n",
       "      <td>487516</td>\n",
       "      <td>545390</td>\n",
       "      <td>256389</td>\n",
       "    </tr>\n",
       "  </tbody>\n",
       "</table>\n",
       "</div>"
      ],
      "text/plain": [
       "       device_id device_ip device_model  device_type  device_conn_type  \\\n",
       "count    1000000   1000000      1000000      1000000           1000000   \n",
       "unique     83431    313002         4581            4                 4   \n",
       "top     a99f214a  6b9769f2     8a4875bd            1                 0   \n",
       "freq      840265      5886        59771       950293            895464   \n",
       "\n",
       "            C14      C15      C16      C17      C18      C19      C20      C21  \n",
       "count   1000000  1000000  1000000  1000000  1000000  1000000  1000000  1000000  \n",
       "unique      606        8        9      162        4       41      161       35  \n",
       "top       21611      320       50     1722        0       35       -1       79  \n",
       "freq      83055   953430   957006   256389   425079   487516   545390   256389  "
      ]
     },
     "execution_count": 2,
     "metadata": {},
     "output_type": "execute_result"
    }
   ],
   "source": [
    "train.describe()[feature_set[11:]]"
   ]
  },
  {
   "cell_type": "markdown",
   "metadata": {},
   "source": [
    "### Relating each feature individually with the clicks\n",
    "\n",
    "As it is possible to verify, from the 1M rows read, about 16% of the sample ads were clicked. However, there might be some levels within a feature that increase or decrease the probability of getting an ad clicked.\n",
    "\n",
    "The following plot address these cases. Imagine the following: \"device_conn_type\" address the type of connection used by the user. What if a particular connection type encourages the user to click in an ad? This is a possible question that I'm trying to answer with a bar plot."
   ]
  },
  {
   "cell_type": "code",
   "execution_count": 277,
   "metadata": {
    "collapsed": false
   },
   "outputs": [
    {
     "name": "stdout",
     "output_type": "stream",
     "text": [
      "Prior probability of getting an ad clicked: 0.160219\n"
     ]
    }
   ],
   "source": [
    "%matplotlib inline\n",
    "import matplotlib.patches as mpatches\n",
    "\n",
    "counts = train['click'].value_counts()\n",
    "prob = train['click'].value_counts()[1]/train['click'].value_counts().sum(axis=0)\n",
    "\n",
    "print(\"Prior probability of getting an ad clicked: \" + str(prob))\n",
    "def conditional_clicks(feature,click_prob):\n",
    "    sample = train[[feature,'click']]\n",
    "    group = sample.groupby([feature])\n",
    "\n",
    "    new_df = pd.DataFrame({'0':group.count()['click']-group.sum()['click'],'1':group.sum()['click']}, columns=['0','1'])\n",
    "    print(new_df)\n",
    "    \n",
    "    _sum = new_df.sum(axis=1)\n",
    "    for c in new_df.columns.values:\n",
    "        new_df[c] = new_df[c]/_sum\n",
    "    \n",
    "\n",
    "    ax = new_df.plot(kind='bar',fontsize=20,figsize=(34, 10),title=\"Feature \" + \"\\\"\"+feature+\"\\\" influence over the click probability\")\n",
    "    ax.set_title(ax.get_title(), fontsize=30)\n",
    "    ax.set_xlabel(feature, fontsize=20)\n",
    "    ax.set_ylabel(\"Probability\", fontsize=20)\n",
    "    \n",
    "    y = np.empty(101)\n",
    "    y.fill(click_prob)\n",
    "\n",
    "    clicked_patch = mpatches.Patch(color='green', label='Ad clicked')\n",
    "    notclicked_patch = mpatches.Patch(color='blue', label='Ad not clicked')\n",
    "    \n",
    "    plt.legend(handles=[notclicked_patch,clicked_patch],prop={'size':26})\n",
    "    \n",
    "    ax.plot(range(-1,100),y,'g',lw=2.5)"
   ]
  },
  {
   "cell_type": "code",
   "execution_count": 276,
   "metadata": {
    "collapsed": false
   },
   "outputs": [
    {
     "name": "stdout",
     "output_type": "stream",
     "text": [
      "                       0       1\n",
      "device_conn_type                \n",
      "0                 747014  148450\n",
      "2                  81263   10782\n",
      "3                  10637     954\n",
      "5                    867      33\n"
     ]
    },
    {
     "data": {
      "image/png": "[encoded data removed]",
      "text/plain": [
       "<matplotlib.figure.Figure at 0x10ec9e9b0>"
      ]
     },
     "metadata": {},
     "output_type": "display_data"
    }
   ],
   "source": [
    "conditional_clicks('device_conn_type',prob)"
   ]
  },
  {
   "cell_type": "code",
   "execution_count": null,
   "metadata": {
    "collapsed": true
   },
   "outputs": [],
   "source": []
  },
  {
   "cell_type": "code",
   "execution_count": null,
   "metadata": {
    "collapsed": true
   },
   "outputs": [],
   "source": []
  },
  {
   "cell_type": "code",
   "execution_count": null,
   "metadata": {
    "collapsed": true
   },
   "outputs": [],
   "source": []
  }
 ],
 "metadata": {
  "kernelspec": {
   "display_name": "Python 3",
   "language": "python",
   "name": "python3"
  },
  "language_info": {
   "codemirror_mode": {
    "name": "ipython",
    "version": 3
   },
   "file_extension": ".py",
   "mimetype": "text/x-python",
   "name": "python",
   "nbconvert_exporter": "python",
   "pygments_lexer": "ipython3",
   "version": "3.4.3"
  }
 },
 "nbformat": 4,
 "nbformat_minor": 0
}
